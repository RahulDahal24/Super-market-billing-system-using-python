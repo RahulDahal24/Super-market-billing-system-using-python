{
 "cells": [
  {
   "cell_type": "code",
   "execution_count": null,
   "id": "d6df1eca-52d9-448e-899f-0deda34b3f69",
   "metadata": {},
   "outputs": [
    {
     "name": "stdin",
     "output_type": "stream",
     "text": [
      "Enter customer name:  rahul\n",
      "Enter phone number:  98478\n"
     ]
    },
    {
     "name": "stdout",
     "output_type": "stream",
     "text": [
      "Enter item quantity and name:\n"
     ]
    },
    {
     "name": "stdin",
     "output_type": "stream",
     "text": [
      "Enter quantity:  3\n",
      "Enter item name:  chips\n",
      "Do you want to add more items? (yes/no):  no\n"
     ]
    },
    {
     "name": "stdout",
     "output_type": "stream",
     "text": [
      "\n",
      "------------------------------\n",
      "Customer name: Rahul\n",
      "Customer phone number: 98478\n",
      "\n",
      "Items purchased:\n",
      "Chips - Quantity: 3.0, Unit Price: 20, Total: 60.0\n",
      "------------------------------\n",
      "Total bill: 60.0\n",
      "discount applied 5.0 % off\n",
      "Final bill 57.0\n",
      "\n",
      "✨ Thank you for shopping with us! ✨\n",
      "🛒 We hope to see you again soon! 🛒\n",
      "📞 If you need any help, feel free to contact us.\n",
      "------------------------------\n"
     ]
    }
   ],
   "source": [
    "products = {\n",
    "    \"chips\": 20,\n",
    "    \"cola\": 40,\n",
    "    \"bread\": 15,\n",
    "    \"milk\": 30,\n",
    "    \"eggs\": 10,\n",
    "    \"butter\": 45,\n",
    "    \"cheese\": 50,\n",
    "    \"yogurt\": 20,\n",
    "    \"rice\": 60,\n",
    "    \"pasta\": 35,\n",
    "    \"flour\": 25,\n",
    "    \"sugar\": 30,\n",
    "    \"salt\": 10,\n",
    "    \"pepper\": 15,\n",
    "    \"coffee\": 70,\n",
    "    \"tea\": 45,\n",
    "    \"chocolate\": 25,\n",
    "    \"cookies\": 20,\n",
    "    \"soap\": 15,\n",
    "    \"shampoo\": 50,\n",
    "    \"toothpaste\": 40,\n",
    "    \"detergent\": 65,\n",
    "    \"toilet_paper\": 30,\n",
    "    \"juice\": 35,\n",
    "    \"ketchup\": 20,\n",
    "    \"mustard\": 18,\n",
    "    \"oil\": 90,\n",
    "    \"vinegar\": 25,\n",
    "    \"spaghetti\": 40,\n",
    "    \"jam\": 30,\n",
    "    \"honey\": 50\n",
    "}\n",
    "\n",
    "# Supermarket billing system\n",
    "while True:\n",
    "    amount = 0\n",
    "    name = input(\"Enter customer name: \").title()\n",
    "    ph_no = input(\"Enter phone number: \")\n",
    "    \n",
    "    items_bought = []  # Collect items to display at the end\n",
    "    \n",
    "    print(\"Enter item quantity and name:\")\n",
    "    while True:\n",
    "        quantity = float(input(\"Enter quantity: \"))\n",
    "        p_name = input(\"Enter item name: \").lower()\n",
    "        \n",
    "        if p_name in products:\n",
    "            unit_price = products[p_name]\n",
    "            total_price = unit_price * quantity\n",
    "            amount += total_price\n",
    "            \n",
    "            # Collect item details\n",
    "            items_bought.append((p_name, quantity, unit_price, total_price))\n",
    "        else:\n",
    "            print(f\"'{p_name}' not found in product list. Please try again.\")\n",
    "        \n",
    "        repeat_item = input(\"Do you want to add more items? (yes/no): \").lower()\n",
    "        if repeat_item == \"no\":\n",
    "            break\n",
    "    discount=0\n",
    "    if amount<=500:\n",
    "        discount=0.05\n",
    "        act_amount=amount-amount*discount\n",
    "    elif amount<=1000:\n",
    "        discount=0.07\n",
    "        act_amount=amount-amount*discount\n",
    "    elif amount<=5000:\n",
    "        discount=0.15\n",
    "        act_amount=amount*discount\n",
    "    else:\n",
    "        discount=0.2\n",
    "        act_amount=amount-amount*discount\n",
    "    \n",
    "    # Final bill printout with all details\n",
    "    print(\"\\n\" + \"-\" * 30)\n",
    "    print(\"Customer name:\", name)\n",
    "    print(\"Customer phone number:\", ph_no)\n",
    "    print(\"\\nItems purchased:\")\n",
    "    \n",
    "    # Print each item in the final bill\n",
    "    for item, qty, unit_price, total in items_bought:\n",
    "        print(f\"{item.capitalize()} - Quantity: {qty}, Unit Price: {unit_price}, Total: {total}\")\n",
    "    \n",
    "    print(\"-\" * 30)\n",
    "    print(\"Total bill:\", amount)\n",
    "    print(\"discount applied\", discount*100,\"% off\")\n",
    "    print(\"Final bill\", act_amount)\n",
    "    print(\"\\n✨ Thank you for shopping with us! ✨\")\n",
    "    print(\"🛒 We hope to see you again soon! 🛒\")\n",
    "    print(\"📞 If you need any help, feel free to contact us.\")\n",
    "    print(\"-\" * 30)\n",
    "    \n",
    "    next_person = input(\"Is there a next person in queue? (yes/no): \").lower()\n",
    "    if next_person == \"no\":\n",
    "        break\n"
   ]
  },
  {
   "cell_type": "code",
   "execution_count": null,
   "id": "8edc8a59-bad9-4c39-a5c6-0d4caefb62cf",
   "metadata": {},
   "outputs": [],
   "source": []
  }
 ],
 "metadata": {
  "kernelspec": {
   "display_name": "Python 3 (ipykernel)",
   "language": "python",
   "name": "python3"
  },
  "language_info": {
   "codemirror_mode": {
    "name": "ipython",
    "version": 3
   },
   "file_extension": ".py",
   "mimetype": "text/x-python",
   "name": "python",
   "nbconvert_exporter": "python",
   "pygments_lexer": "ipython3",
   "version": "3.13.0"
  }
 },
 "nbformat": 4,
 "nbformat_minor": 5
}
